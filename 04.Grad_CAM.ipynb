{
 "cells": [
  {
   "cell_type": "code",
   "execution_count": null,
   "metadata": {},
   "outputs": [],
   "source": [
    "from google.colab import drive \n",
    "drive.mount('/content/gdrive/')\n",
    "path='/content/gdrive/My Drive/Colab Notebooks/06_Anomaly/'\n",
    "\n",
    "import os\n",
    "os.chdir(path)\n"
   ]
  },
  {
   "cell_type": "code",
   "execution_count": 1,
   "metadata": {},
   "outputs": [
    {
     "name": "stdout",
     "output_type": "stream",
     "text": [
      "Defaulting to user installation because normal site-packages is not writeable\n",
      "Collecting grad-cam\n",
      "  Downloading grad-cam-1.4.6.tar.gz (7.8 MB)\n",
      "  Installing build dependencies: started\n",
      "  Installing build dependencies: finished with status 'done'\n",
      "  Getting requirements to build wheel: started\n",
      "  Getting requirements to build wheel: finished with status 'done'\n",
      "    Preparing wheel metadata: started\n",
      "    Preparing wheel metadata: finished with status 'done'\n",
      "Requirement already satisfied: Pillow in c:\\programdata\\anaconda3\\lib\\site-packages (from grad-cam) (9.0.1)\n",
      "Collecting torchvision>=0.8.2\n",
      "  Downloading torchvision-0.14.1-cp39-cp39-win_amd64.whl (1.1 MB)\n",
      "Requirement already satisfied: torch>=1.7.1 in c:\\users\\jisoo\\appdata\\roaming\\python\\python39\\site-packages (from grad-cam) (1.12.1)\n",
      "Collecting opencv-python\n",
      "  Downloading opencv_python-4.7.0.68-cp37-abi3-win_amd64.whl (38.2 MB)\n",
      "Requirement already satisfied: tqdm in c:\\users\\jisoo\\appdata\\roaming\\python\\python39\\site-packages (from grad-cam) (4.64.1)\n",
      "Requirement already satisfied: matplotlib in c:\\programdata\\anaconda3\\lib\\site-packages (from grad-cam) (3.5.1)\n",
      "Collecting ttach\n",
      "  Downloading ttach-0.0.3-py3-none-any.whl (9.8 kB)\n",
      "Requirement already satisfied: numpy in c:\\users\\jisoo\\appdata\\roaming\\python\\python39\\site-packages (from grad-cam) (1.23.2)\n",
      "Requirement already satisfied: scikit-learn in c:\\programdata\\anaconda3\\lib\\site-packages (from grad-cam) (1.0.2)\n",
      "Requirement already satisfied: typing-extensions in c:\\users\\jisoo\\appdata\\roaming\\python\\python39\\site-packages (from torch>=1.7.1->grad-cam) (4.3.0)\n",
      "Collecting torch>=1.7.1\n",
      "  Downloading torch-1.13.1-cp39-cp39-win_amd64.whl (162.5 MB)\n",
      "Requirement already satisfied: requests in c:\\users\\jisoo\\appdata\\roaming\\python\\python39\\site-packages (from torchvision>=0.8.2->grad-cam) (2.18.4)\n",
      "Requirement already satisfied: kiwisolver>=1.0.1 in c:\\programdata\\anaconda3\\lib\\site-packages (from matplotlib->grad-cam) (1.3.2)\n",
      "Requirement already satisfied: fonttools>=4.22.0 in c:\\programdata\\anaconda3\\lib\\site-packages (from matplotlib->grad-cam) (4.25.0)\n",
      "Requirement already satisfied: pyparsing>=2.2.1 in c:\\users\\jisoo\\appdata\\roaming\\python\\python39\\site-packages (from matplotlib->grad-cam) (3.0.9)\n",
      "Requirement already satisfied: python-dateutil>=2.7 in c:\\users\\jisoo\\appdata\\roaming\\python\\python39\\site-packages (from matplotlib->grad-cam) (2.8.2)\n",
      "Requirement already satisfied: packaging>=20.0 in c:\\users\\jisoo\\appdata\\roaming\\python\\python39\\site-packages (from matplotlib->grad-cam) (21.3)\n",
      "Requirement already satisfied: cycler>=0.10 in c:\\programdata\\anaconda3\\lib\\site-packages (from matplotlib->grad-cam) (0.11.0)\n",
      "Requirement already satisfied: six>=1.5 in c:\\programdata\\anaconda3\\lib\\site-packages (from python-dateutil>=2.7->matplotlib->grad-cam) (1.16.0)\n",
      "Collecting idna<2.7,>=2.5\n",
      "  Using cached idna-2.6-py2.py3-none-any.whl (56 kB)\n",
      "Requirement already satisfied: certifi>=2017.4.17 in c:\\programdata\\anaconda3\\lib\\site-packages (from requests->torchvision>=0.8.2->grad-cam) (2021.10.8)\n",
      "Collecting urllib3<1.23,>=1.21.1\n",
      "  Using cached urllib3-1.22-py2.py3-none-any.whl (132 kB)\n",
      "Collecting chardet<3.1.0,>=3.0.2\n",
      "  Using cached chardet-3.0.4-py2.py3-none-any.whl (133 kB)\n",
      "Requirement already satisfied: scipy>=1.1.0 in c:\\programdata\\anaconda3\\lib\\site-packages (from scikit-learn->grad-cam) (1.7.3)\n",
      "Requirement already satisfied: joblib>=0.11 in c:\\users\\jisoo\\appdata\\roaming\\python\\python39\\site-packages (from scikit-learn->grad-cam) (1.1.0)\n",
      "Requirement already satisfied: threadpoolctl>=2.0.0 in c:\\programdata\\anaconda3\\lib\\site-packages (from scikit-learn->grad-cam) (2.2.0)\n",
      "Collecting numpy\n",
      "  Downloading numpy-1.22.4-cp39-cp39-win_amd64.whl (14.7 MB)\n",
      "Requirement already satisfied: colorama in c:\\users\\jisoo\\appdata\\roaming\\python\\python39\\site-packages (from tqdm->grad-cam) (0.4.5)\n",
      "Building wheels for collected packages: grad-cam\n",
      "  Building wheel for grad-cam (PEP 517): started\n",
      "  Building wheel for grad-cam (PEP 517): finished with status 'done'\n",
      "  Created wheel for grad-cam: filename=grad_cam-1.4.6-py3-none-any.whl size=38295 sha256=46ca4f1a82caab0043edc00620dbcb898d442308f3fd6f9ed1a18e6d2fe84f73\n",
      "  Stored in directory: c:\\users\\jisoo\\appdata\\local\\pip\\cache\\wheels\\9b\\ae\\bd\\221d138b169c4867b2ae5c893474d0b23bae6e4750bc95bc55\n",
      "Successfully built grad-cam\n",
      "Installing collected packages: urllib3, numpy, idna, chardet, torch, ttach, torchvision, opencv-python, grad-cam\n",
      "  Attempting uninstall: urllib3\n",
      "    Found existing installation: urllib3 1.26.12\n",
      "    Uninstalling urllib3-1.26.12:\n",
      "      Successfully uninstalled urllib3-1.26.12\n",
      "  Attempting uninstall: numpy\n",
      "    Found existing installation: numpy 1.23.2\n",
      "    Uninstalling numpy-1.23.2:\n",
      "      Successfully uninstalled numpy-1.23.2\n",
      "  Attempting uninstall: torch\n",
      "    Found existing installation: torch 1.12.1\n",
      "    Uninstalling torch-1.12.1:\n",
      "      Successfully uninstalled torch-1.12.1\n",
      "Successfully installed chardet-3.0.4 grad-cam-1.4.6 idna-2.6 numpy-1.22.4 opencv-python-4.7.0.68 torch-1.13.1 torchvision-0.14.1 ttach-0.0.3 urllib3-1.22\n",
      "Note: you may need to restart the kernel to use updated packages.\n"
     ]
    },
    {
     "name": "stderr",
     "output_type": "stream",
     "text": [
      "  WARNING: The script f2py.exe is installed in 'C:\\Users\\jisoo\\AppData\\Roaming\\Python\\Python39\\Scripts' which is not on PATH.\n",
      "  Consider adding this directory to PATH or, if you prefer to suppress this warning, use --no-warn-script-location.\n",
      "  WARNING: The script chardetect.exe is installed in 'C:\\Users\\jisoo\\AppData\\Roaming\\Python\\Python39\\Scripts' which is not on PATH.\n",
      "  Consider adding this directory to PATH or, if you prefer to suppress this warning, use --no-warn-script-location.\n",
      "  WARNING: The scripts convert-caffe2-to-onnx.exe, convert-onnx-to-caffe2.exe and torchrun.exe are installed in 'C:\\Users\\jisoo\\AppData\\Roaming\\Python\\Python39\\Scripts' which is not on PATH.\n",
      "  Consider adding this directory to PATH or, if you prefer to suppress this warning, use --no-warn-script-location.\n",
      "ERROR: pip's dependency resolver does not currently take into account all the packages that are installed. This behaviour is the source of the following dependency conflicts.\n",
      "spyder 5.1.5 requires pyqt5<5.13, which is not installed.\n",
      "spyder 5.1.5 requires pyqtwebengine<5.13, which is not installed.\n",
      "daal4py 2021.5.0 requires daal==2021.4.0, which is not installed.\n",
      "conda-repo-cli 1.0.4 requires pathlib, which is not installed.\n",
      "anaconda-project 0.10.2 requires ruamel-yaml, which is not installed.\n",
      "tensorboard 2.10.0 requires requests<3,>=2.21.0, but you have requests 2.18.4 which is incompatible.\n",
      "botocore 1.23.26 requires urllib3<1.27,>=1.25.4, but you have urllib3 1.22 which is incompatible.\n",
      "boto3 1.24.69 requires botocore<1.28.0,>=1.27.69, but you have botocore 1.23.26 which is incompatible.\n",
      "numba 0.55.1 requires numpy<1.22,>=1.18, but you have numpy 1.22.4 which is incompatible.\n",
      "google-api-core 1.25.1 requires google-auth<2.0dev,>=1.21.1, but you have google-auth 2.11.0 which is incompatible.\n",
      "cookiecutter 1.7.3 requires requests>=2.23.0, but you have requests 2.18.4 which is incompatible.\n",
      "anyio 3.5.0 requires idna>=2.8, but you have idna 2.6 which is incompatible.\n"
     ]
    },
    {
     "name": "stdout",
     "output_type": "stream",
     "text": [
      "Defaulting to user installation because normal site-packages is not writeable\n",
      "Collecting timm\n",
      "  Downloading timm-0.6.12-py3-none-any.whl (549 kB)\n",
      "Requirement already satisfied: torchvision in c:\\users\\jisoo\\appdata\\roaming\\python\\python39\\site-packages (from timm) (0.14.1)\n",
      "Requirement already satisfied: torch>=1.7 in c:\\users\\jisoo\\appdata\\roaming\\python\\python39\\site-packages (from timm) (1.13.1)\n",
      "Requirement already satisfied: pyyaml in c:\\users\\jisoo\\appdata\\roaming\\python\\python39\\site-packages (from timm) (6.0)\n",
      "Requirement already satisfied: huggingface-hub in c:\\users\\jisoo\\appdata\\roaming\\python\\python39\\site-packages (from timm) (0.9.1)\n",
      "Requirement already satisfied: typing-extensions in c:\\users\\jisoo\\appdata\\roaming\\python\\python39\\site-packages (from torch>=1.7->timm) (4.3.0)\n",
      "Requirement already satisfied: tqdm in c:\\users\\jisoo\\appdata\\roaming\\python\\python39\\site-packages (from huggingface-hub->timm) (4.64.1)\n",
      "Requirement already satisfied: packaging>=20.9 in c:\\users\\jisoo\\appdata\\roaming\\python\\python39\\site-packages (from huggingface-hub->timm) (21.3)\n",
      "Requirement already satisfied: requests in c:\\users\\jisoo\\appdata\\roaming\\python\\python39\\site-packages (from huggingface-hub->timm) (2.18.4)\n",
      "Requirement already satisfied: filelock in c:\\users\\jisoo\\appdata\\roaming\\python\\python39\\site-packages (from huggingface-hub->timm) (3.8.0)\n",
      "Requirement already satisfied: pyparsing!=3.0.5,>=2.0.2 in c:\\users\\jisoo\\appdata\\roaming\\python\\python39\\site-packages (from packaging>=20.9->huggingface-hub->timm) (3.0.9)\n",
      "Requirement already satisfied: certifi>=2017.4.17 in c:\\programdata\\anaconda3\\lib\\site-packages (from requests->huggingface-hub->timm) (2021.10.8)\n",
      "Requirement already satisfied: idna<2.7,>=2.5 in c:\\users\\jisoo\\appdata\\roaming\\python\\python39\\site-packages (from requests->huggingface-hub->timm) (2.6)\n",
      "Requirement already satisfied: urllib3<1.23,>=1.21.1 in c:\\users\\jisoo\\appdata\\roaming\\python\\python39\\site-packages (from requests->huggingface-hub->timm) (1.22)\n",
      "Requirement already satisfied: chardet<3.1.0,>=3.0.2 in c:\\users\\jisoo\\appdata\\roaming\\python\\python39\\site-packages (from requests->huggingface-hub->timm) (3.0.4)\n",
      "Requirement already satisfied: numpy in c:\\users\\jisoo\\appdata\\roaming\\python\\python39\\site-packages (from torchvision->timm) (1.22.4)\n",
      "Requirement already satisfied: pillow!=8.3.*,>=5.3.0 in c:\\programdata\\anaconda3\\lib\\site-packages (from torchvision->timm) (9.0.1)\n",
      "Requirement already satisfied: colorama in c:\\users\\jisoo\\appdata\\roaming\\python\\python39\\site-packages (from tqdm->huggingface-hub->timm) (0.4.5)\n",
      "Installing collected packages: timm\n",
      "Successfully installed timm-0.6.12\n",
      "Note: you may need to restart the kernel to use updated packages.\n"
     ]
    }
   ],
   "source": [
    "%pip install grad-cam\n",
    "%pip install timm\n"
   ]
  },
  {
   "cell_type": "code",
   "execution_count": null,
   "metadata": {},
   "outputs": [],
   "source": [
    "from pytorch_grad_cam import GradCAM\n",
    "import timm\n",
    "import torch\n",
    "import cv2\n",
    "import numpy as np"
   ]
  },
  {
   "cell_type": "code",
   "execution_count": null,
   "metadata": {},
   "outputs": [],
   "source": [
    "device = torch.device('cuda')"
   ]
  },
  {
   "cell_type": "code",
   "execution_count": null,
   "metadata": {},
   "outputs": [],
   "source": [
    "class Network(nn.Module):\n",
    "    def __init__(self):\n",
    "        super(Network, self).__init__()\n",
    "        self.model = timm.create_model('efficientnet_b4', pretrained=True, num_classes=88)\n",
    "        \n",
    "    def forward(self, x):\n",
    "        x = self.model(x)\n",
    "        return x"
   ]
  },
  {
   "cell_type": "code",
   "execution_count": null,
   "metadata": {},
   "outputs": [],
   "source": [
    "model = Network().to(device)\n",
    "model.load_state_dict(torch.load(\"./model/best0419/0.pt\"))"
   ]
  },
  {
   "cell_type": "code",
   "execution_count": null,
   "metadata": {},
   "outputs": [],
   "source": [
    "target_layers = [model.model.blocks[-1]]\n",
    "cam = GradCAM(model=model.model, target_layers=target_layers, use_cuda=True)\n",
    "cam.batch_size = 2"
   ]
  },
  {
   "cell_type": "code",
   "execution_count": null,
   "metadata": {},
   "outputs": [],
   "source": [
    "from pytorch_grad_cam.utils.image import show_cam_on_image\n",
    "grayscale_cam = graycam[0, :]\n",
    "rgb_img = cv2.imread(\"10008.png\")[:, :, ::-1]\n",
    "rgb_img = cv2.resize(rgb_img, (512, 512))\n",
    "rgb_img = np.float32(rgb_img) / 255\n",
    "\n",
    "cam_image=show_cam_on_image(rgb_img,grayscale_cam)\n",
    "cv2.imwrite('grad_cam.jpg', cam_image)"
   ]
  }
 ],
 "metadata": {
  "kernelspec": {
   "display_name": "base",
   "language": "python",
   "name": "python3"
  },
  "language_info": {
   "codemirror_mode": {
    "name": "ipython",
    "version": 3
   },
   "file_extension": ".py",
   "mimetype": "text/x-python",
   "name": "python",
   "nbconvert_exporter": "python",
   "pygments_lexer": "ipython3",
   "version": "3.9.12"
  },
  "orig_nbformat": 4,
  "vscode": {
   "interpreter": {
    "hash": "ad2bdc8ecc057115af97d19610ffacc2b4e99fae6737bb82f5d7fb13d2f2c186"
   }
  }
 },
 "nbformat": 4,
 "nbformat_minor": 2
}
